{
 "cells": [
  {
   "cell_type": "code",
   "execution_count": 1,
   "id": "c67e2ef0-3fb2-4bf3-b60c-766d897d0393",
   "metadata": {},
   "outputs": [
    {
     "name": "stdout",
     "output_type": "stream",
     "text": [
      "Configured Capacity: 25821052928 (24.05 GB)\n",
      "Present Capacity: 13521240064 (12.59 GB)\n",
      "DFS Remaining: 13322752000 (12.41 GB)\n",
      "DFS Used: 198488064 (189.29 MB)\n",
      "DFS Used%: 1.47%\n",
      "Replicated Blocks:\n",
      "\tUnder replicated blocks: 17\n",
      "\tBlocks with corrupt replicas: 0\n",
      "\tMissing blocks: 0\n",
      "\tMissing blocks (with replication factor 1): 0\n",
      "\tLow redundancy blocks with highest priority to recover: 17\n",
      "\tPending deletion blocks: 0\n",
      "Erasure Coded Block Groups: \n",
      "\tLow redundancy block groups: 0\n",
      "\tBlock groups with corrupt internal blocks: 0\n",
      "\tMissing block groups: 0\n",
      "\tLow redundancy blocks with highest priority to recover: 0\n",
      "\tPending deletion blocks: 0\n",
      "\n",
      "-------------------------------------------------\n",
      "Live datanodes (1):\n",
      "\n",
      "Name: 192.168.64.3:9866 (project-5-p5-rfwong07-dn-1.project-5-p5-rfwong07_default)\n",
      "Hostname: 90e64da7e810\n",
      "Decommission Status : Normal\n",
      "Configured Capacity: 25821052928 (24.05 GB)\n",
      "DFS Used: 198488064 (189.29 MB)\n",
      "Non DFS Used: 12283035648 (11.44 GB)\n",
      "DFS Remaining: 13322752000 (12.41 GB)\n",
      "DFS Used%: 0.77%\n",
      "DFS Remaining%: 51.60%\n",
      "Configured Cache Capacity: 0 (0 B)\n",
      "Cache Used: 0 (0 B)\n",
      "Cache Remaining: 0 (0 B)\n",
      "Cache Used%: 100.00%\n",
      "Cache Remaining%: 0.00%\n",
      "Xceivers: 0\n",
      "Last contact: Fri Apr 05 23:35:44 GMT 2024\n",
      "Last Block Report: Fri Apr 05 22:46:10 GMT 2024\n",
      "Num of Blocks: 39\n",
      "\n",
      "\n"
     ]
    }
   ],
   "source": [
    "!hdfs dfsadmin -fs hdfs://nn:9000/ -report"
   ]
  },
  {
   "cell_type": "code",
   "execution_count": 2,
   "id": "f2ab4c48-f420-498f-8a44-a943c782c073",
   "metadata": {},
   "outputs": [],
   "source": [
    "!hdfs dfs -D dfs.replication=1 -cp -f data/*.csv hdfs://nn:9000/"
   ]
  },
  {
   "cell_type": "markdown",
   "id": "afb34a71-d10d-4752-8981-c4221e09f4db",
   "metadata": {},
   "source": [
    "# Part 1: Filtering: RDDs, DataFrames, and Spark\n",
    "Inside your p5.ipynb notebook, create a Spark session (note we're enabling Hive on HDFS):"
   ]
  },
  {
   "cell_type": "code",
   "execution_count": 3,
   "id": "513b0e29-c23f-4919-b726-ca7718337db4",
   "metadata": {},
   "outputs": [],
   "source": [
    "#Import statements\n",
    "#import for part1\n",
    "from pyspark.sql import SparkSession\n",
    "\n",
    "#import for part3\n",
    "import matplotlib.pyplot as plt\n",
    "\n",
    "#import for part4\n",
    "from pyspark.ml.feature import VectorAssembler\n",
    "from pyspark.ml.classification import RandomForestClassifier"
   ]
  },
  {
   "cell_type": "code",
   "execution_count": 4,
   "id": "1e7fe2cf-4d52-4dda-b019-b71d30ffdd86",
   "metadata": {},
   "outputs": [
    {
     "name": "stderr",
     "output_type": "stream",
     "text": [
      "Setting default log level to \"WARN\".\n",
      "To adjust logging level use sc.setLogLevel(newLevel). For SparkR, use setLogLevel(newLevel).\n",
      "24/04/05 23:36:01 WARN NativeCodeLoader: Unable to load native-hadoop library for your platform... using builtin-java classes where applicable\n"
     ]
    }
   ],
   "source": [
    "\n",
    "spark = (SparkSession.builder.appName(\"cs544\")\n",
    "         .master(\"spark://boss:7077\")\n",
    "         .config(\"spark.executor.memory\", \"512M\")\n",
    "         .config(\"spark.sql.warehouse.dir\", \"hdfs://nn:9000/user/hive/warehouse\")\n",
    "         .enableHiveSupport()\n",
    "         .getOrCreate())"
   ]
  },
  {
   "cell_type": "code",
   "execution_count": 5,
   "id": "08d27007-cf04-48ca-9487-dcefbf694341",
   "metadata": {},
   "outputs": [
    {
     "name": "stderr",
     "output_type": "stream",
     "text": [
      "                                                                                \r"
     ]
    },
    {
     "data": {
      "text/plain": [
       "DataFrame[respondent_name: string, arid_2017: string, lei_2018: string, lei_2019: string, lei_2020: string]"
      ]
     },
     "execution_count": 5,
     "metadata": {},
     "output_type": "execute_result"
    }
   ],
   "source": [
    "# TODO: modify to treat the first row as a header\n",
    "# TODO: modify to infer the schema\n",
    "banks_df = (spark.read.format(\"csv\")\n",
    "            .option(\"header\", True)\n",
    "            .option(\"inferSchema\",True)\n",
    "            .load(\"hdfs://nn:9000/arid2017_to_lei_xref_csv.csv\"))\n",
    "banks_df"
   ]
  },
  {
   "cell_type": "code",
   "execution_count": 6,
   "id": "abcb1396-b6bd-4e5a-ab82-7eb2dd6218c3",
   "metadata": {},
   "outputs": [
    {
     "name": "stderr",
     "output_type": "stream",
     "text": [
      "                                                                                \r"
     ]
    },
    {
     "data": {
      "text/plain": [
       "106"
      ]
     },
     "execution_count": 6,
     "metadata": {},
     "output_type": "execute_result"
    }
   ],
   "source": [
    "#q1\n",
    "#How many banks contain the words \"The\" and \"National\" (case sensitive) in their name? Use an RDD to answer.\n",
    "filtered_rows_rdd = banks_df.rdd.filter(lambda x: \"The\" in x[\"respondent_name\"] and \"National\" in x[\"respondent_name\"])\n",
    "\n",
    "#Display rdd count using .count()\n",
    "filtered_rows_rdd.count()"
   ]
  },
  {
   "cell_type": "code",
   "execution_count": 7,
   "id": "d6b552e6-614b-4059-a8c2-88de905c2edb",
   "metadata": {},
   "outputs": [
    {
     "name": "stderr",
     "output_type": "stream",
     "text": [
      "                                                                                \r"
     ]
    },
    {
     "data": {
      "text/plain": [
       "106"
      ]
     },
     "execution_count": 7,
     "metadata": {},
     "output_type": "execute_result"
    }
   ],
   "source": [
    "#q2\n",
    "\n",
    "#Same as Q1. This time, use a DataFrame (instead of RDD) to answer.\n",
    "\n",
    "filtered_rows_df = banks_df.filter(\"respondent_name LIKE '%The%' and respondent_name LIKE '%National%'\")\n",
    "\n",
    "#Display df count using .count()\n",
    "filtered_rows_df.count()"
   ]
  },
  {
   "cell_type": "code",
   "execution_count": 8,
   "id": "cf75fe17-b398-4f98-ad71-4fe9a22fd8ff",
   "metadata": {},
   "outputs": [
    {
     "name": "stderr",
     "output_type": "stream",
     "text": [
      "24/04/05 23:36:55 WARN HiveConf: HiveConf of name hive.stats.jdbc.timeout does not exist\n",
      "24/04/05 23:36:55 WARN HiveConf: HiveConf of name hive.stats.retries.wait does not exist\n",
      "24/04/05 23:37:02 WARN ObjectStore: Version information not found in metastore. hive.metastore.schema.verification is not enabled so recording the schema version 2.3.0\n",
      "24/04/05 23:37:02 WARN ObjectStore: setMetaStoreSchemaVersion called but recording version is disabled: version = 2.3.0, comment = Set by MetaStore UNKNOWN@192.168.64.4\n",
      "24/04/05 23:37:05 WARN ObjectStore: Failed to get database global_temp, returning NoSuchObjectException\n",
      "24/04/05 23:37:10 WARN SessionState: METASTORE_FILTER_HOOK will be ignored, since hive.security.authorization.manager is set to instance of HiveAuthorizerFactory.\n",
      "24/04/05 23:37:10 WARN HiveConf: HiveConf of name hive.internal.ss.authz.settings.applied.marker does not exist\n",
      "24/04/05 23:37:10 WARN HiveConf: HiveConf of name hive.stats.jdbc.timeout does not exist\n",
      "24/04/05 23:37:10 WARN HiveConf: HiveConf of name hive.stats.retries.wait does not exist\n",
      "                                                                                \r"
     ]
    },
    {
     "data": {
      "text/plain": [
       "106"
      ]
     },
     "execution_count": 8,
     "metadata": {},
     "output_type": "execute_result"
    }
   ],
   "source": [
    "#q3\n",
    "#Same as Q1. This time, use Spark SQL (instead of RDD) to answer.\n",
    "\n",
    "#Load data to hive table\n",
    "banks_df.write.saveAsTable(\"banks\", mode=\"overwrite\")\n",
    "\n",
    "filtered_sql_query = spark.sql(\"\"\"\n",
    "SELECT COUNT(*)\n",
    "FROM banks\n",
    "WHERE respondent_name LIKE '%The%' and respondent_name LIKE '%National%'\n",
    "\"\"\")\n",
    "\n",
    "#Display sql query count using .collect then indexing\n",
    "filtered_sql_query.collect()[0][0]"
   ]
  },
  {
   "cell_type": "markdown",
   "id": "770c4221-8daf-4d08-bc85-c755fcc8e581",
   "metadata": {},
   "source": [
    "# Part 2: Hive Data Warehouse"
   ]
  },
  {
   "cell_type": "code",
   "execution_count": 9,
   "id": "617399d2-3943-4d25-b4fe-6fab30d86089",
   "metadata": {},
   "outputs": [
    {
     "name": "stderr",
     "output_type": "stream",
     "text": [
      "24/04/05 23:37:29 WARN SparkStringUtils: Truncated the string representation of a plan since it was too large. This behavior can be adjusted by setting 'spark.sql.debug.maxToStringFields'.\n",
      "                                                                                \r"
     ]
    }
   ],
   "source": [
    "\"\"\"You have already added a banks table to Hive (using the command we shared with you). \n",
    "Now, write similar code hdma-wi-2021.csv into a table called loans.\"\"\"\n",
    "\n",
    "#Create spark_df for hdma-wi-2021.csv\n",
    "loans_df = (spark.read.format(\"csv\")\n",
    "            .option(\"header\", True)\n",
    "            .option(\"inferSchema\",True)\n",
    "            .load(\"hdfs://nn:9000/hdma-wi-2021.csv\"))\n",
    "\n",
    "#Write  hdma-wi-2021.csv into a table called loans with bucketBy 8 buckets on column county_code\n",
    "loans_df.write.bucketBy(8, \"county_code\").saveAsTable(\"loans\", mode=\"overwrite\")"
   ]
  },
  {
   "cell_type": "code",
   "execution_count": 10,
   "id": "b5c7027c-48ff-4944-89c4-3f02c727e861",
   "metadata": {},
   "outputs": [],
   "source": [
    "#Cell to see parquet files of loans table\n",
    "#!hdfs dfs -ls hdfs://nn:9000/user/hive/warehouse/loans"
   ]
  },
  {
   "cell_type": "code",
   "execution_count": 11,
   "id": "2d2f89a3-40a0-4f57-ad9f-d40e85a1a3bd",
   "metadata": {},
   "outputs": [
    {
     "name": "stderr",
     "output_type": "stream",
     "text": [
      "                                                                                \r"
     ]
    }
   ],
   "source": [
    "hive_view_list = [\"ethnicity\", \"race\", \"sex\", \"states\", \"counties\", \"tracts\", \"action_taken\",\n",
    " \"denial_reason\", \"loan_type\", \"loan_purpose\", \"preapproval\", \"property_type\"]\n",
    "\n",
    "for view in hive_view_list:\n",
    "\n",
    "    #Read the csv where the first row is header, and the Schema is inferred\n",
    "    df = spark.read.option(\"header\", \"true\").option(\"inferSchema\",\"true\").csv(f\"hdfs://nn:9000/{view}.csv\")\n",
    "\n",
    "    #Create or replace temp view for Dataframe\n",
    "    df.createOrReplaceTempView(view)"
   ]
  },
  {
   "cell_type": "code",
   "execution_count": 12,
   "id": "3d08839c-48ef-475d-bfc8-3d25c1a7fb0b",
   "metadata": {},
   "outputs": [
    {
     "data": {
      "text/plain": [
       "{'banks': False,\n",
       " 'loans': False,\n",
       " 'action_taken': True,\n",
       " 'counties': True,\n",
       " 'denial_reason': True,\n",
       " 'ethnicity': True,\n",
       " 'loan_purpose': True,\n",
       " 'loan_type': True,\n",
       " 'preapproval': True,\n",
       " 'property_type': True,\n",
       " 'race': True,\n",
       " 'sex': True,\n",
       " 'states': True,\n",
       " 'tracts': True}"
      ]
     },
     "execution_count": 12,
     "metadata": {},
     "output_type": "execute_result"
    }
   ],
   "source": [
    "#q4\n",
    "\n",
    "#What tables are in our warehouse?\n",
    "pd_table = spark.sql(\"SHOW TABLES\").toPandas() #Convert table to pandas\n",
    "\n",
    "#tableName => key, isTemporary => value change to dict with key-value pair\n",
    "pd_table.set_index(\"tableName\")[\"isTemporary\"].to_dict() "
   ]
  },
  {
   "cell_type": "code",
   "execution_count": 13,
   "id": "c3ff7609-fae2-432e-9b21-156867511be9",
   "metadata": {},
   "outputs": [
    {
     "name": "stderr",
     "output_type": "stream",
     "text": [
      "                                                                                \r"
     ]
    },
    {
     "data": {
      "text/plain": [
       "6"
      ]
     },
     "execution_count": 13,
     "metadata": {},
     "output_type": "execute_result"
    }
   ],
   "source": [
    "#q5\n",
    "\n",
    "#Use INNER JOIN on banks.lei_2020 and loans.lei\n",
    "#filter by respondent name = 'First National Bank'\n",
    "query_result = spark.sql(\"\"\"\n",
    "    SELECT COUNT(*)\n",
    "    FROM banks\n",
    "    INNER JOIN loans ON banks.lei_2020 = loans.lei \n",
    "    WHERE banks.respondent_name = 'First National Bank'\n",
    "    \"\"\")\n",
    "\n",
    "#Display the count with .collect and indexing\n",
    "query_result.collect()[0][0]"
   ]
  },
  {
   "cell_type": "code",
   "execution_count": 14,
   "id": "711b7374-0c35-4069-bf2e-d3e32285d538",
   "metadata": {},
   "outputs": [
    {
     "name": "stdout",
     "output_type": "stream",
     "text": [
      "== Physical Plan ==\n",
      "AdaptiveSparkPlan (25)\n",
      "+- == Final Plan ==\n",
      "   * HashAggregate (15)\n",
      "   +- ShuffleQueryStage (14), Statistics(sizeInBytes=32.0 B, rowCount=2)\n",
      "      +- Exchange (13)\n",
      "         +- * HashAggregate (12)\n",
      "            +- * Project (11)\n",
      "               +- * BroadcastHashJoin Inner BuildLeft (10)\n",
      "                  :- BroadcastQueryStage (6), Statistics(sizeInBytes=8.0 MiB, rowCount=8)\n",
      "                  :  +- BroadcastExchange (5)\n",
      "                  :     +- * Project (4)\n",
      "                  :        +- * Filter (3)\n",
      "                  :           +- * ColumnarToRow (2)\n",
      "                  :              +- Scan parquet spark_catalog.default.banks (1)\n",
      "                  +- * Filter (9)\n",
      "                     +- * ColumnarToRow (8)\n",
      "                        +- Scan parquet spark_catalog.default.loans (7)\n",
      "+- == Initial Plan ==\n",
      "   HashAggregate (24)\n",
      "   +- Exchange (23)\n",
      "      +- HashAggregate (22)\n",
      "         +- Project (21)\n",
      "            +- BroadcastHashJoin Inner BuildLeft (20)\n",
      "               :- BroadcastExchange (18)\n",
      "               :  +- Project (17)\n",
      "               :     +- Filter (16)\n",
      "               :        +- Scan parquet spark_catalog.default.banks (1)\n",
      "               +- Filter (19)\n",
      "                  +- Scan parquet spark_catalog.default.loans (7)\n",
      "\n",
      "\n",
      "(1) Scan parquet spark_catalog.default.banks\n",
      "Output [2]: [respondent_name#65, lei_2020#69]\n",
      "Batched: true\n",
      "Location: InMemoryFileIndex [hdfs://nn:9000/user/hive/warehouse/banks]\n",
      "PushedFilters: [IsNotNull(respondent_name), EqualTo(respondent_name,First National Bank), IsNotNull(lei_2020)]\n",
      "ReadSchema: struct<respondent_name:string,lei_2020:string>\n",
      "\n",
      "(2) ColumnarToRow [codegen id : 1]\n",
      "Input [2]: [respondent_name#65, lei_2020#69]\n",
      "\n",
      "(3) Filter [codegen id : 1]\n",
      "Input [2]: [respondent_name#65, lei_2020#69]\n",
      "Condition : ((isnotnull(respondent_name#65) AND (respondent_name#65 = First National Bank)) AND isnotnull(lei_2020#69))\n",
      "\n",
      "(4) Project [codegen id : 1]\n",
      "Output [1]: [lei_2020#69]\n",
      "Input [2]: [respondent_name#65, lei_2020#69]\n",
      "\n",
      "(5) BroadcastExchange\n",
      "Input [1]: [lei_2020#69]\n",
      "Arguments: HashedRelationBroadcastMode(List(input[0, string, true]),false), [plan_id=511]\n",
      "\n",
      "(6) BroadcastQueryStage\n",
      "Output [1]: [lei_2020#69]\n",
      "Arguments: 0\n",
      "\n",
      "(7) Scan parquet spark_catalog.default.loans\n",
      "Output [1]: [lei#988]\n",
      "Batched: true\n",
      "Bucketed: false (bucket column(s) not read)\n",
      "Location: InMemoryFileIndex [hdfs://nn:9000/user/hive/warehouse/loans]\n",
      "PushedFilters: [IsNotNull(lei)]\n",
      "ReadSchema: struct<lei:string>\n",
      "\n",
      "(8) ColumnarToRow\n",
      "Input [1]: [lei#988]\n",
      "\n",
      "(9) Filter\n",
      "Input [1]: [lei#988]\n",
      "Condition : isnotnull(lei#988)\n",
      "\n",
      "(10) BroadcastHashJoin [codegen id : 2]\n",
      "Left keys [1]: [lei_2020#69]\n",
      "Right keys [1]: [lei#988]\n",
      "Join type: Inner\n",
      "Join condition: None\n",
      "\n",
      "(11) Project [codegen id : 2]\n",
      "Output: []\n",
      "Input [2]: [lei_2020#69, lei#988]\n",
      "\n",
      "(12) HashAggregate [codegen id : 2]\n",
      "Input: []\n",
      "Keys: []\n",
      "Functions [1]: [partial_count(1)]\n",
      "Aggregate Attributes [1]: [count#1089L]\n",
      "Results [1]: [count#1090L]\n",
      "\n",
      "(13) Exchange\n",
      "Input [1]: [count#1090L]\n",
      "Arguments: SinglePartition, ENSURE_REQUIREMENTS, [plan_id=569]\n",
      "\n",
      "(14) ShuffleQueryStage\n",
      "Output [1]: [count#1090L]\n",
      "Arguments: 1\n",
      "\n",
      "(15) HashAggregate [codegen id : 3]\n",
      "Input [1]: [count#1090L]\n",
      "Keys: []\n",
      "Functions [1]: [count(1)]\n",
      "Aggregate Attributes [1]: [count(1)#986L]\n",
      "Results [1]: [count(1)#986L AS count(1)#1086L]\n",
      "\n",
      "(16) Filter\n",
      "Input [2]: [respondent_name#65, lei_2020#69]\n",
      "Condition : ((isnotnull(respondent_name#65) AND (respondent_name#65 = First National Bank)) AND isnotnull(lei_2020#69))\n",
      "\n",
      "(17) Project\n",
      "Output [1]: [lei_2020#69]\n",
      "Input [2]: [respondent_name#65, lei_2020#69]\n",
      "\n",
      "(18) BroadcastExchange\n",
      "Input [1]: [lei_2020#69]\n",
      "Arguments: HashedRelationBroadcastMode(List(input[0, string, true]),false), [plan_id=480]\n",
      "\n",
      "(19) Filter\n",
      "Input [1]: [lei#988]\n",
      "Condition : isnotnull(lei#988)\n",
      "\n",
      "(20) BroadcastHashJoin\n",
      "Left keys [1]: [lei_2020#69]\n",
      "Right keys [1]: [lei#988]\n",
      "Join type: Inner\n",
      "Join condition: None\n",
      "\n",
      "(21) Project\n",
      "Output: []\n",
      "Input [2]: [lei_2020#69, lei#988]\n",
      "\n",
      "(22) HashAggregate\n",
      "Input: []\n",
      "Keys: []\n",
      "Functions [1]: [partial_count(1)]\n",
      "Aggregate Attributes [1]: [count#1089L]\n",
      "Results [1]: [count#1090L]\n",
      "\n",
      "(23) Exchange\n",
      "Input [1]: [count#1090L]\n",
      "Arguments: SinglePartition, ENSURE_REQUIREMENTS, [plan_id=485]\n",
      "\n",
      "(24) HashAggregate\n",
      "Input [1]: [count#1090L]\n",
      "Keys: []\n",
      "Functions [1]: [count(1)]\n",
      "Aggregate Attributes [1]: [count(1)#986L]\n",
      "Results [1]: [count(1)#986L AS count(1)#1086L]\n",
      "\n",
      "(25) AdaptiveSparkPlan\n",
      "Output [1]: [count(1)#1086L]\n",
      "Arguments: isFinalPlan=true\n",
      "\n",
      "\n"
     ]
    }
   ],
   "source": [
    "#q6\n",
    "\n",
    "#What does .explain(\"formatted\") tell us about how Spark executes Q5?\n",
    "#Show the output of .explain(\"formatted\")\n",
    "query_result.explain(\"formatted\")\n",
    "\n",
    "#Which table is sent to every executor via a BroadcastExchange operation?\n",
    "\n",
    "#The banks table is sent to every BroadcastExchange operation we can see \n",
    "#this in the \"BradcastExchange\" steps in the output below for example:\n",
    "#(5) BroadcastExchange\n",
    "#Input [1]: [lei_2020#69]\n",
    "#(18) BroadcastExchange\n",
    "#Input [1]: [lei_2020#69]\n",
    "#The column lei_2020 in the banks table is being broadcasted to every executor.\n",
    "\n",
    "#Does the plan involve HashAggregates (depending on how you write the query, it may or may not)? \n",
    "#If so, which ones? And, if not, why?\n",
    "\n",
    "#This involves HasAggregate operation as it is indicated in the plans below. Specifically\n",
    "#they occur at steps 12 and 24 where the aggregate function' 'count' is being used, \n",
    "# and steps 15 and 25 are steps where results are being aggregated further."
   ]
  },
  {
   "cell_type": "markdown",
   "id": "695f6270-c00c-4582-a5ff-caadbe4cbe83",
   "metadata": {},
   "source": [
    "# Part 3: Grouping Rows"
   ]
  },
  {
   "cell_type": "code",
   "execution_count": 15,
   "id": "f91ee835-40fb-447c-895f-dcfbbd8f75dd",
   "metadata": {},
   "outputs": [
    {
     "name": "stderr",
     "output_type": "stream",
     "text": [
      "                                                                                \r"
     ]
    },
    {
     "data": {
      "text/plain": [
       "{'Sawyer': 38,\n",
       " 'Door': 174,\n",
       " 'Forest': 7,\n",
       " 'Ozaukee': 389,\n",
       " 'Bayfield': 33,\n",
       " 'Waukesha': 1832,\n",
       " 'Vilas': 68,\n",
       " 'Dane': 729,\n",
       " 'Oneida': 70,\n",
       " 'Florence': 8}"
      ]
     },
     "execution_count": 15,
     "metadata": {},
     "output_type": "execute_result"
    }
   ],
   "source": [
    "#q7\n",
    "#What are the application counts for Wells Fargo applications for the ten counties where \n",
    "#Wells Fargo applications have the highest average loan amount?\n",
    "\n",
    "avg_query = spark.sql(\"\"\"\n",
    "    SELECT NAME, COUNT(*)\n",
    "    FROM loans\n",
    "    INNER JOIN banks ON loans.lei = banks.lei_2018\n",
    "    INNER JOIN counties ON loans.county_code = counties.STATE*1000 + counties.COUNTY\n",
    "    WHERE respondent_name = 'Wells Fargo Bank, National Association'\n",
    "    GROUP BY NAME\n",
    "    ORDER BY AVG(loan_amount) DESC\n",
    "    LIMIT 10\n",
    "    \"\"\")\n",
    "avg_wells_query_dict = avg_query.toPandas().set_index(\"NAME\").to_dict()['count(1)'] #Set Index to NAME before turning to dict\n",
    "avg_wells_query_dict"
   ]
  },
  {
   "cell_type": "code",
   "execution_count": 16,
   "id": "75763d7a-44f0-40b7-9e8d-37ab6aab8fa1",
   "metadata": {},
   "outputs": [
    {
     "data": {
      "image/png": "[encoded data removed]",
      "text/plain": [
       "<Figure size 640x480 with 1 Axes>"
      ]
     },
     "metadata": {},
     "output_type": "display_data"
    }
   ],
   "source": [
    "#This cell dipslays the counting dictionary from previous cell\n",
    "avg_query.toPandas().plot(kind = \"bar\", x = 'NAME', y = 'count(1)', legend = None)\n",
    "plt.xlabel(\"County Name\")\n",
    "plt.ylabel(\"Count\")\n",
    "#plt.title(\"Count of Applications of Counties with Wells Fargo\") #Title not shown in example\n",
    "plt.show()"
   ]
  },
  {
   "cell_type": "code",
   "execution_count": 17,
   "id": "3be78834-bdb3-4987-a7fb-2b2ef2be264f",
   "metadata": {},
   "outputs": [
    {
     "name": "stdout",
     "output_type": "stream",
     "text": [
      "== Physical Plan ==\n",
      "AdaptiveSparkPlan isFinalPlan=false\n",
      "+- HashAggregate(keys=[county_code#991], functions=[])\n",
      "   +- HashAggregate(keys=[county_code#991], functions=[])\n",
      "      +- FileScan parquet spark_catalog.default.loans[county_code#991] Batched: true, Bucketed: true, DataFilters: [], Format: Parquet, Location: InMemoryFileIndex(1 paths)[hdfs://nn:9000/user/hive/warehouse/loans], PartitionFilters: [], PushedFilters: [], ReadSchema: struct<county_code:string>, SelectedBucketsCount: 8 out of 8\n",
      "\n",
      "\n",
      "== Physical Plan ==\n",
      "AdaptiveSparkPlan isFinalPlan=false\n",
      "+- HashAggregate(keys=[lei#988], functions=[])\n",
      "   +- Exchange hashpartitioning(lei#988, 200), ENSURE_REQUIREMENTS, [plan_id=879]\n",
      "      +- HashAggregate(keys=[lei#988], functions=[])\n",
      "         +- FileScan parquet spark_catalog.default.loans[lei#988] Batched: true, Bucketed: false (bucket column(s) not read), DataFilters: [], Format: Parquet, Location: InMemoryFileIndex(1 paths)[hdfs://nn:9000/user/hive/warehouse/loans], PartitionFilters: [], PushedFilters: [], ReadSchema: struct<lei:string>\n",
      "\n",
      "\n"
     ]
    }
   ],
   "source": [
    "#q8\n",
    "\n",
    "#When computing a MEAN aggregate per group of loans, under what situation (when) do we require network I/O between the partial_mean and mean operations?\n",
    "\n",
    "#Try group by county_code\n",
    "group_county_query = spark.sql(\"\"\"\n",
    "    SELECT county_code \n",
    "    FROM loans\n",
    "    GROUP BY county_code\n",
    "    \"\"\")\n",
    "group_county_query.explain()\n",
    "\n",
    "#Then try grouping by the lei column\n",
    "group_lei_query = spark.sql(\"\"\"\n",
    "    SELECT lei \n",
    "    FROM loans\n",
    "    GROUP BY lei\n",
    "    \"\"\")\n",
    "group_lei_query.explain()\n",
    "\n",
    "#In group_lei_query there is this line \"Exchange hashpartitioning(lei#988, 200)' which indicates that \n",
    "#there's an Exhange operation with the lei column. This indicates that the data is \n",
    "#being shuffled across the network to ensure that all the rows with the same lei are grouped properly.\n",
    "#Whereas looking at the county_code group by query,  there is no Exchange operation, but at the very \n",
    "#end we see SelectedBucketsCount: 8 out of 8. Back in the beginning of part 2 we used bucketBy to \n",
    "#partition the county_code column into 8 partitions.  This means when we read the data back\n",
    "#in we get an RDD that is already partitioned by counties. Thus, when we conduct GROUP BY\n",
    "#on county_code we skip the network shuffle/exchange operation since multiple partitions\n",
    "#don't have to be accessed to obtain information on certain county_codes. "
   ]
  },
  {
   "cell_type": "markdown",
   "id": "72f90e74-84ad-40ab-bdae-079687b08f8d",
   "metadata": {},
   "source": [
    "# Part 4: Machine Learning"
   ]
  },
  {
   "cell_type": "code",
   "execution_count": 18,
   "id": "28fef333-b1e2-4d3c-bf17-ab13fd8202b1",
   "metadata": {},
   "outputs": [
    {
     "name": "stderr",
     "output_type": "stream",
     "text": [
      "/usr/local/lib/python3.10/dist-packages/pyspark/sql/pandas/conversion.py:485: FutureWarning: is_datetime64tz_dtype is deprecated and will be removed in a future version. Check `isinstance(dtype, pd.DatetimeTZDtype)` instead.\n",
      "  if should_localize and is_datetime64tz_dtype(s.dtype) and s.dt.tz is not None:\n"
     ]
    },
    {
     "data": {
      "text/plain": [
       "DataFrame[loan_amount: double, income: double, interest_rate: double, approval: bigint]"
      ]
     },
     "execution_count": 18,
     "metadata": {},
     "output_type": "execute_result"
    }
   ],
   "source": [
    "\n",
    "# spark.sql(\"\"\"\n",
    "# SELECT *, action_taken.action_taken AS action_description\n",
    "# FROM loans\n",
    "# INNER JOIN action_taken ON loans.action_taken = action_taken.id\n",
    "# \"\"\").rdd.take(1)[0]\n",
    "\n",
    "df = spark.sql(\"\"\"\n",
    "SELECT loan_amount, CAST(income AS double), CAST(interest_rate AS double), action_taken\n",
    "FROM loans\n",
    "\"\"\").toPandas() #Convert to pandas to wrangle the data\n",
    "\n",
    "# Fill missing values of all features with 0.0\n",
    "df = df.fillna(0.0)\n",
    "\n",
    "#Create label approval with values 1 if its 1 (\"Loan Originated\") and the rest are 0 (not \"Loan Originated\")\n",
    "df[\"approval\"] = (df['action_taken'] == 1).astype(int)\n",
    "\n",
    "#Important Keep orders of columns as follow: \"loan_amount\", \"income\", \"interest_rate\", \"approval\"\n",
    "df.drop(columns = [\"action_taken\"], inplace = True)\n",
    "\n",
    "#Convert back to spark Dataframe\n",
    "df = spark.createDataFrame(df)\n",
    "\n",
    "#Then split df as follows: deterministic split\n",
    "train, test = df.randomSplit([0.8, 0.2], seed=41) \n",
    "\n",
    "#Cache the train DataFrame\n",
    "train.cache()"
   ]
  },
  {
   "cell_type": "code",
   "execution_count": 19,
   "id": "16b7d9de-a11a-4d79-91c9-fa4d4bcd6a85",
   "metadata": {},
   "outputs": [
    {
     "name": "stderr",
     "output_type": "stream",
     "text": [
      "24/04/05 23:39:35 WARN TaskSetManager: Stage 49 contains a task of very large size (6989 KiB). The maximum recommended task size is 1000 KiB.\n",
      "24/04/05 23:39:48 WARN TaskSetManager: Stage 50 contains a task of very large size (6989 KiB). The maximum recommended task size is 1000 KiB.\n",
      "                                                                                \r"
     ]
    },
    {
     "data": {
      "text/plain": [
       "242907"
      ]
     },
     "execution_count": 19,
     "metadata": {},
     "output_type": "execute_result"
    }
   ],
   "source": [
    "#q9 \n",
    "\n",
    "#How many loans are approved (approval = 1) in the train DataFrame?\n",
    "approval_rows = train.rdd.filter(lambda x: 1 == x[\"approval\"])\n",
    "#Answer with a single number\n",
    "approval_rows.count()\n"
   ]
  },
  {
   "cell_type": "code",
   "execution_count": 21,
   "id": "fe91bd45-0ff2-425d-991c-b4e9a62c6f73",
   "metadata": {},
   "outputs": [
    {
     "name": "stderr",
     "output_type": "stream",
     "text": [
      "24/04/05 23:42:48 WARN TaskSetManager: Stage 71 contains a task of very large size (6989 KiB). The maximum recommended task size is 1000 KiB.\n"
     ]
    },
    {
     "name": "stdout",
     "output_type": "stream",
     "text": [
      "+-----------+------+-------------+--------+----------------+\n",
      "|loan_amount|income|interest_rate|approval|        features|\n",
      "+-----------+------+-------------+--------+----------------+\n",
      "|     5000.0|   0.0|          0.0|       0|[5000.0,0.0,0.0]|\n",
      "|     5000.0|   0.0|          0.0|       0|[5000.0,0.0,0.0]|\n",
      "|     5000.0|   0.0|          0.0|       0|[5000.0,0.0,0.0]|\n",
      "|     5000.0|   0.0|          0.0|       0|[5000.0,0.0,0.0]|\n",
      "|     5000.0|   0.0|          0.0|       0|[5000.0,0.0,0.0]|\n",
      "|     5000.0|   0.0|          0.0|       0|[5000.0,0.0,0.0]|\n",
      "|     5000.0|   0.0|          0.0|       0|[5000.0,0.0,0.0]|\n",
      "|     5000.0|   0.0|          0.0|       0|[5000.0,0.0,0.0]|\n",
      "|     5000.0|   0.0|          0.0|       0|[5000.0,0.0,0.0]|\n",
      "|     5000.0|   0.0|          0.0|       0|[5000.0,0.0,0.0]|\n",
      "|     5000.0|   0.0|          0.0|       0|[5000.0,0.0,0.0]|\n",
      "|     5000.0|   0.0|          0.0|       0|[5000.0,0.0,0.0]|\n",
      "|     5000.0|   0.0|          0.0|       0|[5000.0,0.0,0.0]|\n",
      "|     5000.0|   0.0|          0.0|       0|[5000.0,0.0,0.0]|\n",
      "|     5000.0|   0.0|          0.0|       0|[5000.0,0.0,0.0]|\n",
      "|     5000.0|   0.0|          0.0|       0|[5000.0,0.0,0.0]|\n",
      "|     5000.0|   0.0|          0.0|       0|[5000.0,0.0,0.0]|\n",
      "|     5000.0|   0.0|          0.0|       0|[5000.0,0.0,0.0]|\n",
      "|     5000.0|   0.0|          0.0|       0|[5000.0,0.0,0.0]|\n",
      "|     5000.0|   0.0|          2.5|       1|[5000.0,0.0,2.5]|\n",
      "+-----------+------+-------------+--------+----------------+\n",
      "only showing top 20 rows\n",
      "\n"
     ]
    },
    {
     "name": "stderr",
     "output_type": "stream",
     "text": [
      "24/04/05 23:42:48 WARN TaskSetManager: Stage 72 contains a task of very large size (7017 KiB). The maximum recommended task size is 1000 KiB.\n",
      "24/04/05 23:42:50 WARN TaskSetManager: Stage 75 contains a task of very large size (6989 KiB). The maximum recommended task size is 1000 KiB.\n",
      "24/04/05 23:42:50 WARN TaskSetManager: Stage 76 contains a task of very large size (7017 KiB). The maximum recommended task size is 1000 KiB.\n",
      "24/04/05 23:42:51 WARN TaskSetManager: Stage 77 contains a task of very large size (6989 KiB). The maximum recommended task size is 1000 KiB.\n",
      "24/04/05 23:42:52 WARN TaskSetManager: Stage 79 contains a task of very large size (6989 KiB). The maximum recommended task size is 1000 KiB.\n",
      "24/04/05 23:42:54 WARN TaskSetManager: Stage 81 contains a task of very large size (6989 KiB). The maximum recommended task size is 1000 KiB.\n",
      "24/04/05 23:42:56 WARN TaskSetManager: Stage 83 contains a task of very large size (7017 KiB). The maximum recommended task size is 1000 KiB.\n",
      "24/04/05 23:42:57 WARN TaskSetManager: Stage 85 contains a task of very large size (6989 KiB). The maximum recommended task size is 1000 KiB.\n",
      "24/04/05 23:42:58 WARN TaskSetManager: Stage 87 contains a task of very large size (6989 KiB). The maximum recommended task size is 1000 KiB.\n",
      "24/04/05 23:43:00 WARN TaskSetManager: Stage 89 contains a task of very large size (6989 KiB). The maximum recommended task size is 1000 KiB.\n",
      "24/04/05 23:43:07 WARN TaskSetManager: Stage 90 contains a task of very large size (6989 KiB). The maximum recommended task size is 1000 KiB.\n",
      "                                                                                \r"
     ]
    },
    {
     "data": {
      "text/plain": [
       "0.8929993991855627"
      ]
     },
     "execution_count": 21,
     "metadata": {},
     "output_type": "execute_result"
    }
   ],
   "source": [
    "#q10\n",
    "#What is the accuracy of the random forest classifier with 10 trees on the test dataset?\n",
    "\n",
    "#Use VectorAssembler to Combine hte feature columns into a single column\n",
    "va = VectorAssembler(inputCols = [\"loan_amount\", \"income\", \"interest_rate\"], outputCol = \"features\")\n",
    "va.transform(train).show()\n",
    "\n",
    "#Train a RandomforestClassifier with 10 trees\n",
    "rf = RandomForestClassifier(featuresCol = \"features\", labelCol =\"approval\", numTrees = 10)\n",
    "random_forest_model = rf.fit(va.transform(train))\n",
    "\n",
    "test_transformed = va.transform(test)\n",
    "predictions = random_forest_model.transform(test_transformed)\n",
    "\n",
    "#Total Count\n",
    "total_predict_count = predictions.rdd.count()\n",
    "\n",
    "#Find when rows of prediction = approval and then count them\n",
    "correct_pred_rows = predictions.rdd.filter(lambda x : x[\"prediction\"] == x[\"approval\"])\n",
    "correct_pred_count = correct_pred_rows.count()\n",
    "\n",
    "#Calculate Average (accuracy)\n",
    "accuracy = correct_pred_count / total_predict_count \n",
    "\n",
    "#Display the accuracy\n",
    "accuracy"
   ]
  },
  {
   "cell_type": "code",
   "execution_count": null,
   "id": "943337d1-9cbc-4a8f-96cc-64c64cfe5730",
   "metadata": {},
   "outputs": [],
   "source": []
  }
 ],
 "metadata": {
  "kernelspec": {
   "display_name": "Python 3 (ipykernel)",
   "language": "python",
   "name": "python3"
  },
  "language_info": {
   "codemirror_mode": {
    "name": "ipython",
    "version": 3
   },
   "file_extension": ".py",
   "mimetype": "text/x-python",
   "name": "python",
   "nbconvert_exporter": "python",
   "pygments_lexer": "ipython3",
   "version": "3.10.12"
  }
 },
 "nbformat": 4,
 "nbformat_minor": 5
}
